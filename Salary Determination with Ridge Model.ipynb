{
 "cells": [
  {
   "cell_type": "code",
   "execution_count": 1,
   "id": "508856a1-d2cc-497b-99a7-f7f9dc3e0a27",
   "metadata": {},
   "outputs": [],
   "source": [
    "import pandas as pd\n",
    "import numpy as np"
   ]
  },
  {
   "cell_type": "code",
   "execution_count": 83,
   "id": "ad67f8fd-640a-426b-b097-8e04f2dd45c6",
   "metadata": {},
   "outputs": [],
   "source": [
    "from sklearn.model_selection import train_test_split\n",
    "hit = pd.read_csv(\"Hitters.csv\")\n",
    "df = hit.copy()\n",
    "df = df.dropna()\n",
    "dms = pd.get_dummies(df[['League','Division','NewLeague']])\n",
    "y = df[\"Salary\"]\n",
    "X_ = df.drop(['Salary','League','Division','NewLeague'], axis = 1).astype('float64') \n",
    "X = pd.concat([X_ , dms[['League_N','Division_W','NewLeague_N']]] , axis = 1)\n",
    "X_train,X_test,y_train,y_test = train_test_split(X,\n",
    "                                                 y,\n",
    "                                                 test_size = 0.25,\n",
    "                                                 random_state = 42)\n",
    "\n",
    "\n"
   ]
  },
  {
   "cell_type": "code",
   "execution_count": 84,
   "id": "b58eb99d-cff1-4c8c-94f0-2d3137c2c44b",
   "metadata": {},
   "outputs": [
    {
     "data": {
      "text/plain": [
       "AtBat        0\n",
       "Hits         0\n",
       "HmRun        0\n",
       "Runs         0\n",
       "RBI          0\n",
       "Walks        0\n",
       "Years        0\n",
       "CAtBat       0\n",
       "CHits        0\n",
       "CHmRun       0\n",
       "CRuns        0\n",
       "CRBI         0\n",
       "CWalks       0\n",
       "League       0\n",
       "Division     0\n",
       "PutOuts      0\n",
       "Assists      0\n",
       "Errors       0\n",
       "Salary       0\n",
       "NewLeague    0\n",
       "dtype: int64"
      ]
     },
     "execution_count": 84,
     "metadata": {},
     "output_type": "execute_result"
    }
   ],
   "source": [
    "df.isnull().sum()"
   ]
  },
  {
   "cell_type": "code",
   "execution_count": 85,
   "id": "ef004593-6621-4e3e-8c7f-0b32362f6c07",
   "metadata": {},
   "outputs": [],
   "source": [
    "from sklearn.linear_model import Ridge"
   ]
  },
  {
   "cell_type": "code",
   "execution_count": 90,
   "id": "0990254c-703d-4daf-ba19-4dcf06b335be",
   "metadata": {},
   "outputs": [],
   "source": [
    "ridge_model = Ridge(alpha = 0.1).fit(X_test, y_test)"
   ]
  },
  {
   "cell_type": "code",
   "execution_count": 91,
   "id": "ec30dc2a-d1b1-40da-abdc-f4d491d8e2a6",
   "metadata": {},
   "outputs": [
    {
     "data": {
      "text/plain": [
       "Ridge(alpha=0.1)"
      ]
     },
     "execution_count": 91,
     "metadata": {},
     "output_type": "execute_result"
    }
   ],
   "source": [
    "ridge_model"
   ]
  },
  {
   "cell_type": "code",
   "execution_count": 92,
   "id": "0d870ba6-5517-4223-9446-ab240ca8ea28",
   "metadata": {},
   "outputs": [
    {
     "data": {
      "text/plain": [
       "array([-2.56196447e+00,  1.18395338e+00,  1.63257244e+00,  5.39591326e+00,\n",
       "        3.07302201e-01,  6.58049846e+00, -4.16178599e+01, -4.16751349e-01,\n",
       "        2.37520815e+00,  3.10542867e+00, -6.95147249e-01,  1.47488277e-01,\n",
       "       -6.68314658e-01,  6.17680455e-01,  6.65181178e-01, -3.59870931e+00,\n",
       "       -1.24856338e+02, -1.75586533e+02,  9.34594002e+01])"
      ]
     },
     "execution_count": 92,
     "metadata": {},
     "output_type": "execute_result"
    }
   ],
   "source": [
    "ridge_model.coef_"
   ]
  },
  {
   "cell_type": "code",
   "execution_count": 96,
   "id": "a922e757-edbe-43d0-b4a2-0442812de331",
   "metadata": {},
   "outputs": [
    {
     "data": {
      "image/png": "[encoded data removed]",
      "text/plain": [
       "<Figure size 432x288 with 1 Axes>"
      ]
     },
     "metadata": {
      "needs_background": "light"
     },
     "output_type": "display_data"
    }
   ],
   "source": [
    "import matplotlib.pyplot as plt\n",
    "lambdalar = 10**np.linspace(10,-2,100)*0.5\n",
    "\n",
    "ridge_model = Ridge()\n",
    "katsayilar = []\n",
    "for i in lambdalar:\n",
    "    ridge_model.set_params(alpha=i)\n",
    "    ridge_model.fit(X_train,y_train)\n",
    "    katsayilar.append(ridge_model.coef_)\n",
    "    \n",
    "ax = plt.gca()\n",
    "ax.plot(lambdalar, katsayilar)\n",
    "ax.set_xscale('log')\n",
    "\n",
    "\n",
    "plt.xlabel('Lambda(alpha) Değerleri')\n",
    "plt.ylabel('katsayilar/agırlıklar')\n",
    "plt.title('Düzenlileştirmenin bir fonksiyonu olarak ridge katsayıları');"
   ]
  },
  {
   "cell_type": "markdown",
   "id": "a874593d-624f-4a18-8a6e-f16cc3fe2b7f",
   "metadata": {},
   "source": [
    "## Tahmin"
   ]
  },
  {
   "cell_type": "code",
   "execution_count": 111,
   "id": "df29800f-9d12-4ecf-a5ef-f291764b5f87",
   "metadata": {
    "tags": []
   },
   "outputs": [],
   "source": [
    "y_pred = ridge_model.predict(X_test)"
   ]
  },
  {
   "cell_type": "code",
   "execution_count": 118,
   "id": "536d9710-2b8a-48aa-8d20-115a932cae2a",
   "metadata": {},
   "outputs": [
    {
     "name": "stdout",
     "output_type": "stream",
     "text": [
      "Hata Karelerinin Ortalamasının Test Hatası: 357.0517922283 \n"
     ]
    }
   ],
   "source": [
    "from sklearn.metrics import mean_squared_error\n",
    "print('Hata Karelerinin Ortalamasının Test Hatası: %.10f ' % (np.sqrt(mean_squared_error(y_test,y_pred))))"
   ]
  }
 ],
 "metadata": {
  "kernelspec": {
   "display_name": "Python 3 (ipykernel)",
   "language": "python",
   "name": "python3"
  },
  "language_info": {
   "codemirror_mode": {
    "name": "ipython",
    "version": 3
   },
   "file_extension": ".py",
   "mimetype": "text/x-python",
   "name": "python",
   "nbconvert_exporter": "python",
   "pygments_lexer": "ipython3",
   "version": "3.9.12"
  }
 },
 "nbformat": 4,
 "nbformat_minor": 5
}
